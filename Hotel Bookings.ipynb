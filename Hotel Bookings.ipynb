{
 "cells": [
  {
   "cell_type": "markdown",
   "metadata": {},
   "source": [
    "## An Analysis of Hotel Booking Data\n",
    "### Exploratory Data Analysis\n",
    "\n",
    "The dataset contained multiple columns which were not very useful in the analysis; hence, they were dropped from the data frame. It was then important to check the data types contained in each column of the data frame."
   ]
  },
  {
   "cell_type": "code",
   "execution_count": 1,
   "metadata": {},
   "outputs": [],
   "source": [
    "import pandas as pd"
   ]
  },
  {
   "cell_type": "code",
   "execution_count": 2,
   "metadata": {},
   "outputs": [],
   "source": [
    "raw_data = pd.read_csv('hotel_bookings.csv')"
   ]
  },
  {
   "cell_type": "code",
   "execution_count": 3,
   "metadata": {},
   "outputs": [
    {
     "data": {
      "text/plain": [
       "Index(['hotel', 'is_canceled', 'lead_time', 'arrival_date_year',\n",
       "       'arrival_date_month', 'arrival_date_week_number',\n",
       "       'arrival_date_day_of_month', 'stays_in_weekend_nights',\n",
       "       'stays_in_week_nights', 'adults', 'children', 'babies', 'meal',\n",
       "       'country', 'market_segment', 'distribution_channel',\n",
       "       'is_repeated_guest', 'previous_cancellations',\n",
       "       'previous_bookings_not_canceled', 'reserved_room_type',\n",
       "       'assigned_room_type', 'booking_changes', 'deposit_type', 'agent',\n",
       "       'company', 'days_in_waiting_list', 'customer_type', 'adr',\n",
       "       'required_car_parking_spaces', 'total_of_special_requests',\n",
       "       'reservation_status', 'reservation_status_date'],\n",
       "      dtype='object')"
      ]
     },
     "execution_count": 3,
     "metadata": {},
     "output_type": "execute_result"
    }
   ],
   "source": [
    "raw_data.columns"
   ]
  },
  {
   "cell_type": "markdown",
   "metadata": {},
   "source": [
    "The next stage is to analyse the unique values of columns which contain catgeorical or factor data. The Pandas dataframe stores these categorical variables (which tend to take a set of string values) as an 'object' data type.\n",
    "\n",
    "Beginning with the type of hotel; the unique types of hotels include: _Resort Hotels_ and _City Hotel_. The dataset contains data from all twelve months of the year, which would be expected. 177 countries are represented in this dataset. The reserved room types are labeled as 'C', 'A', 'D', 'E', 'G', 'F', 'H', 'L', 'P' and 'B'. The assigned room types are of the same kind, but even more numerous in number. Since these labels make very little sense without metadata of some sort (which was not provided with the dataset), it is appropriate to drop them from the data frame. Finally, the deposit type of the booking can be: _No Deposit, Refundable, Non Refund_ (Non Refundable).\n",
    "\n",
    "This information was gathered from the analysis below:"
   ]
  },
  {
   "cell_type": "code",
   "execution_count": 4,
   "metadata": {},
   "outputs": [],
   "source": [
    "raw_data.drop(columns = ['is_canceled', \n",
    "                      'arrival_date_year', \n",
    "                      'arrival_date_week_number', \n",
    "                      'arrival_date_day_of_month', \n",
    "                      'agent',\n",
    "                      'company', \n",
    "                      'days_in_waiting_list', \n",
    "                      'customer_type', \n",
    "                      'adr',\n",
    "                      'required_car_parking_spaces', \n",
    "                      'total_of_special_requests',\n",
    "                      'reservation_status', \n",
    "                      'reservation_status_date', \n",
    "                      'distribution_channel', \n",
    "                      'meal', \n",
    "                      'market_segment'], inplace = True)"
   ]
  },
  {
   "cell_type": "code",
   "execution_count": 5,
   "metadata": {},
   "outputs": [
    {
     "name": "stdout",
     "output_type": "stream",
     "text": [
      "Hotel types: ['Resort Hotel' 'City Hotel']\n",
      "Months in the data: ['July' 'August' 'September' 'October' 'November' 'December' 'January'\n",
      " 'February' 'March' 'April' 'May' 'June']\n",
      "Number of unique country values in the data: 178\n",
      "Reserved room types: ['C' 'A' 'D' 'E' 'G' 'F' 'H' 'L' 'P' 'B']\n",
      "Assigned room types: ['C' 'A' 'D' 'E' 'G' 'F' 'I' 'B' 'H' 'P' 'L' 'K']\n",
      "Deposit types: ['No Deposit' 'Refundable' 'Non Refund']\n"
     ]
    }
   ],
   "source": [
    "print(\"Hotel types:\", raw_data['hotel'].unique())\n",
    "print(\"Months in the data:\", raw_data['arrival_date_month'].unique())\n",
    "print(\"Number of unique country values in the data:\", raw_data['country'].unique().size)\n",
    "print(\"Reserved room types:\", raw_data['reserved_room_type'].unique())\n",
    "print(\"Assigned room types:\", raw_data['assigned_room_type'].unique())\n",
    "print(\"Deposit types:\", raw_data['deposit_type'].unique())"
   ]
  },
  {
   "cell_type": "code",
   "execution_count": 6,
   "metadata": {},
   "outputs": [],
   "source": [
    "raw_data.drop(columns = ['reserved_room_type', 'assigned_room_type'], inplace = True)"
   ]
  },
  {
   "cell_type": "code",
   "execution_count": null,
   "metadata": {},
   "outputs": [],
   "source": [
    "raw_data.dtypes"
   ]
  },
  {
   "cell_type": "markdown",
   "metadata": {},
   "source": [
    "This dataset is punctuated with missing values (represented as \"nan\" values). We would like to check how many missing values exist in this data. \n",
    "\n",
    "From the output generated by code below, most columns haven't got any missing values. However, where there are missing values in certain records, we would like to drop the entire record due to it being incomplete. We finally check to see that all the \"nan\" values have been removed. "
   ]
  },
  {
   "cell_type": "code",
   "execution_count": 8,
   "metadata": {},
   "outputs": [
    {
     "data": {
      "text/plain": [
       "hotel                               0\n",
       "lead_time                           0\n",
       "arrival_date_month                  0\n",
       "stays_in_weekend_nights             0\n",
       "stays_in_week_nights                0\n",
       "adults                              0\n",
       "children                            4\n",
       "babies                              0\n",
       "country                           488\n",
       "is_repeated_guest                   0\n",
       "previous_cancellations              0\n",
       "previous_bookings_not_canceled      0\n",
       "booking_changes                     0\n",
       "deposit_type                        0\n",
       "dtype: int64"
      ]
     },
     "execution_count": 8,
     "metadata": {},
     "output_type": "execute_result"
    }
   ],
   "source": [
    "raw_data.isna().sum()"
   ]
  },
  {
   "cell_type": "code",
   "execution_count": 9,
   "metadata": {},
   "outputs": [
    {
     "data": {
      "text/plain": [
       "hotel                             0\n",
       "lead_time                         0\n",
       "arrival_date_month                0\n",
       "stays_in_weekend_nights           0\n",
       "stays_in_week_nights              0\n",
       "adults                            0\n",
       "children                          0\n",
       "babies                            0\n",
       "country                           0\n",
       "is_repeated_guest                 0\n",
       "previous_cancellations            0\n",
       "previous_bookings_not_canceled    0\n",
       "booking_changes                   0\n",
       "deposit_type                      0\n",
       "dtype: int64"
      ]
     },
     "execution_count": 9,
     "metadata": {},
     "output_type": "execute_result"
    }
   ],
   "source": [
    "raw_data = raw_data.dropna(how = 'any')\n",
    "raw_data.isna().sum()"
   ]
  },
  {
   "cell_type": "code",
   "execution_count": 13,
   "metadata": {},
   "outputs": [],
   "source": [
    "raw_data['children'] = raw_data['children'].astype(int)"
   ]
  },
  {
   "cell_type": "code",
   "execution_count": null,
   "metadata": {},
   "outputs": [],
   "source": [
    "# grouped_month = hotel.groupby('arrival_date_month')\n",
    "# month_count = grouped_month['hotel'].count()"
   ]
  }
 ],
 "metadata": {
  "kernelspec": {
   "display_name": "Python 3",
   "language": "python",
   "name": "python3"
  },
  "language_info": {
   "codemirror_mode": {
    "name": "ipython",
    "version": 3
   },
   "file_extension": ".py",
   "mimetype": "text/x-python",
   "name": "python",
   "nbconvert_exporter": "python",
   "pygments_lexer": "ipython3",
   "version": "3.7.3"
  }
 },
 "nbformat": 4,
 "nbformat_minor": 2
}
